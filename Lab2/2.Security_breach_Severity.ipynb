{
 "cells": [
  {
   "cell_type": "markdown",
   "metadata": {},
   "source": [
    "Audience: Different Organizations Tech and Non-Tech.\n",
    "Argument: \"Security breaches becomes more severe\".\n",
    "Chart Junk: Try to keep 1.\n",
    "Data Source: https://docs.google.com/spreadsheets/d/1Je-YUdnhjQJO_13r8iTeRxpU2pBKuV6RVRHoYCgiMfg/edit#gid=322165570\n"
   ]
  },
  {
   "cell_type": "markdown",
   "metadata": {},
   "source": [
    "Tableau Public: https://public.tableau.com/profile/nikhil.kaushik#!/vizhome/Work1_24/SecurityBreaches?publish=yes"
   ]
  },
  {
   "cell_type": "code",
   "execution_count": 4,
   "metadata": {
    "ExecuteTime": {
     "end_time": "2017-09-29T18:58:42.351448Z",
     "start_time": "2017-09-29T18:58:37.153605Z"
    }
   },
   "outputs": [],
   "source": [
    "#import extension libraries\n",
    "%matplotlib inline\n",
    "import matplotlib.pyplot as plt\n",
    "import seaborn as sns\n",
    "import pandas as pd"
   ]
  },
  {
   "cell_type": "markdown",
   "metadata": {},
   "source": [
    "Using the data source: Beautiful- Data Breaches (public).xlsx"
   ]
  },
  {
   "cell_type": "code",
   "execution_count": 6,
   "metadata": {
    "ExecuteTime": {
     "end_time": "2017-09-29T18:59:20.078445Z",
     "start_time": "2017-09-29T18:59:19.036030Z"
    }
   },
   "outputs": [],
   "source": [
    "wb_bty = pd.read_excel(\"Information is Beautiful- Data Breaches (public).xlsx\")\n",
    "sheet_1 = pd.read_excel(\"Information is Beautiful- Data Breaches (public).xlsx\", sheetname= 0)\n",
    "sheet_2 = pd.read_excel(\"Information is Beautiful- Data Breaches (public).xlsx\", sheetname= 1)\n",
    "sheet_3 = pd.read_excel(\"Information is Beautiful- Data Breaches (public).xlsx\", sheetname= 2)"
   ]
  },
  {
   "cell_type": "code",
   "execution_count": 9,
   "metadata": {
    "ExecuteTime": {
     "end_time": "2017-09-29T19:02:40.583981Z",
     "start_time": "2017-09-29T19:02:40.571863Z"
    }
   },
   "outputs": [],
   "source": [
    "sheet_1.columns = map(str.upper, sheet_1.columns)"
   ]
  },
  {
   "cell_type": "code",
   "execution_count": 11,
   "metadata": {
    "ExecuteTime": {
     "end_time": "2017-09-29T19:03:30.200056Z",
     "start_time": "2017-09-29T19:03:30.191074Z"
    }
   },
   "outputs": [],
   "source": [
    "sheet_1 = sheet_1[1:254]"
   ]
  },
  {
   "cell_type": "code",
   "execution_count": 15,
   "metadata": {
    "ExecuteTime": {
     "end_time": "2017-09-29T19:08:11.374824Z",
     "start_time": "2017-09-29T19:08:11.366172Z"
    }
   },
   "outputs": [],
   "source": [
    "pd.options.mode.chained_assignment = None"
   ]
  },
  {
   "cell_type": "markdown",
   "metadata": {},
   "source": [
    "Changing the data in the column YEAR to the correct year."
   ]
  },
  {
   "cell_type": "code",
   "execution_count": 16,
   "metadata": {
    "ExecuteTime": {
     "end_time": "2017-09-29T19:08:25.593939Z",
     "start_time": "2017-09-29T19:08:25.463685Z"
    }
   },
   "outputs": [],
   "source": [
    "sheet_1.loc[sheet_1.YEAR==0,'YEAR']=2004\n",
    "sheet_1.loc[sheet_1.YEAR==1,'YEAR']=2005\n",
    "sheet_1.loc[sheet_1.YEAR==2,'YEAR']=2006\n",
    "sheet_1.loc[sheet_1.YEAR==3,'YEAR']=2007\n",
    "sheet_1.loc[sheet_1.YEAR==4,'YEAR']=2008\n",
    "sheet_1.loc[sheet_1.YEAR==5,'YEAR']=2009\n",
    "sheet_1.loc[sheet_1.YEAR==6,'YEAR']=2010\n",
    "sheet_1.loc[sheet_1.YEAR==7,'YEAR']=2011\n",
    "sheet_1.loc[sheet_1.YEAR==8,'YEAR']=2012\n",
    "sheet_1.loc[sheet_1.YEAR==9,'YEAR']=2013\n",
    "sheet_1.loc[sheet_1.YEAR==10,'YEAR']=2014\n",
    "sheet_1.loc[sheet_1.YEAR==11,'YEAR']=2015\n",
    "sheet_1.loc[sheet_1.YEAR==12,'YEAR']=2016\n",
    "sheet_1.loc[sheet_1.YEAR==13,'YEAR']=2017\n",
    "sheet_1.loc[sheet_1.YEAR==14,'YEAR']='Latest'"
   ]
  },
  {
   "cell_type": "code",
   "execution_count": 18,
   "metadata": {
    "ExecuteTime": {
     "end_time": "2017-09-29T19:09:12.660834Z",
     "start_time": "2017-09-29T19:09:12.645929Z"
    },
    "scrolled": true
   },
   "outputs": [
    {
     "data": {
      "text/plain": [
       "Index(['ENTITY', 'ALTERNATIVE NAME', 'STORY', 'YEAR', 'RECORDS LOST',\n",
       "       'ORGANISATION', 'METHOD OF LEAK', 'INTERESTING STORY',\n",
       "       'NO OF RECORDS STOLEN', 'DATA SENSITIVITY', 'UNUSED', 'UNUSED.1',\n",
       "       'EXCLUDE', 'UNNAMED: 13', '1ST SOURCE LINK', '2ND SOURCE LINK',\n",
       "       '3RD SOURCE', 'SOURCE NAME'],\n",
       "      dtype='object')"
      ]
     },
     "execution_count": 18,
     "metadata": {},
     "output_type": "execute_result"
    }
   ],
   "source": [
    "sheet_1.columns"
   ]
  },
  {
   "cell_type": "markdown",
   "metadata": {},
   "source": [
    "Wrangling data:\n",
    "1. removed unwanted record\n",
    "2. changed the values of years as per coded.\n",
    "3. Made the header standard."
   ]
  },
  {
   "cell_type": "markdown",
   "metadata": {},
   "source": [
    "Deleting the Columns which might not help for the current argument"
   ]
  },
  {
   "cell_type": "code",
   "execution_count": 21,
   "metadata": {
    "ExecuteTime": {
     "end_time": "2017-09-29T19:17:47.576451Z",
     "start_time": "2017-09-29T19:17:47.544075Z"
    }
   },
   "outputs": [],
   "source": [
    "# Deleting the unwanted Columns\n",
    "del sheet_1['ALTERNATIVE NAME']\n",
    "del sheet_1['STORY']\n",
    "del sheet_1['INTERESTING STORY']\n",
    "del sheet_1['NO OF RECORDS STOLEN']\n",
    "del sheet_1['UNUSED']\n",
    "del sheet_1['UNUSED.1']\n",
    "del sheet_1['EXCLUDE']\n",
    "del sheet_1['UNNAMED: 13']\n",
    "del sheet_1['1ST SOURCE LINK']\n",
    "del sheet_1['2ND SOURCE LINK']\n",
    "del sheet_1['3RD SOURCE']\n",
    "del sheet_1['SOURCE NAME']"
   ]
  },
  {
   "cell_type": "code",
   "execution_count": 28,
   "metadata": {
    "ExecuteTime": {
     "end_time": "2017-09-30T02:22:27.479599Z",
     "start_time": "2017-09-30T02:22:27.468845Z"
    }
   },
   "outputs": [
    {
     "data": {
      "text/plain": [
       "Index(['ENTITY', 'YEAR', 'RECORDS LOST', 'ORGANISATION', 'METHOD OF LEAK',\n",
       "       'DATA SENSITIVITY'],\n",
       "      dtype='object')"
      ]
     },
     "execution_count": 28,
     "metadata": {},
     "output_type": "execute_result"
    }
   ],
   "source": [
    "sheet_1.columns"
   ]
  },
  {
   "cell_type": "code",
   "execution_count": null,
   "metadata": {
    "ExecuteTime": {
     "end_time": "2017-09-30T02:33:20.264099Z",
     "start_time": "2017-09-30T02:33:20.249383Z"
    }
   },
   "outputs": [],
   "source": [
    "sheet_1.dtypes"
   ]
  },
  {
   "cell_type": "markdown",
   "metadata": {},
   "source": [
    "Checking for distinct/Unique values in hte field DATA SESITIVITY for data wrangling."
   ]
  },
  {
   "cell_type": "code",
   "execution_count": 33,
   "metadata": {
    "ExecuteTime": {
     "end_time": "2017-09-30T02:38:01.966502Z",
     "start_time": "2017-09-30T02:38:01.933859Z"
    }
   },
   "outputs": [
    {
     "data": {
      "text/plain": [
       "array([1, 20, 300, '20', 50000, 4000, '300', 3], dtype=object)"
      ]
     },
     "execution_count": 33,
     "metadata": {},
     "output_type": "execute_result"
    }
   ],
   "source": [
    "sheet_1['DATA SENSITIVITY'].unique()"
   ]
  },
  {
   "cell_type": "code",
   "execution_count": 37,
   "metadata": {
    "ExecuteTime": {
     "end_time": "2017-09-30T02:44:01.051670Z",
     "start_time": "2017-09-30T02:44:00.973796Z"
    }
   },
   "outputs": [],
   "source": [
    "sheet_1.loc[sheet_1['DATA SENSITIVITY']==1,'DATA SENSITIVITY']='Just email address/Online information'\n",
    "sheet_1.loc[sheet_1['DATA SENSITIVITY']==20,'DATA SENSITIVITY']='SSN/Personal details'\n",
    "sheet_1.loc[sheet_1['DATA SENSITIVITY']=='20','DATA SENSITIVITY']='SSN/Personal details'\n",
    "sheet_1.loc[sheet_1['DATA SENSITIVITY']==300,'DATA SENSITIVITY']='Credit card information'\n",
    "sheet_1.loc[sheet_1['DATA SENSITIVITY']=='300','DATA SENSITIVITY']='Credit card information'\n",
    "sheet_1.loc[sheet_1['DATA SENSITIVITY']==4000,'DATA SENSITIVITY']='Email password/Health records'\n",
    "sheet_1.loc[sheet_1['DATA SENSITIVITY']==50000,'DATA SENSITIVITY']='Full bank account details'"
   ]
  },
  {
   "cell_type": "code",
   "execution_count": 38,
   "metadata": {
    "ExecuteTime": {
     "end_time": "2017-09-30T02:45:17.319472Z",
     "start_time": "2017-09-30T02:45:17.303471Z"
    }
   },
   "outputs": [
    {
     "data": {
      "text/plain": [
       "array([1, 20, 300, 'SSN/Personal details', 50000, 4000,\n",
       "       'Credit card information', 3], dtype=object)"
      ]
     },
     "execution_count": 38,
     "metadata": {},
     "output_type": "execute_result"
    }
   ],
   "source": [
    "sheet_1['DATA SENSITIVITY'].unique()"
   ]
  },
  {
   "cell_type": "code",
   "execution_count": 39,
   "metadata": {
    "ExecuteTime": {
     "end_time": "2017-09-30T02:46:56.981745Z",
     "start_time": "2017-09-30T02:46:56.923453Z"
    }
   },
   "outputs": [],
   "source": [
    "sheet_1.loc[sheet_1['DATA SENSITIVITY']==1,'DATA SENSITIVITY']='Just email address/Online information'\n",
    "sheet_1.loc[sheet_1['DATA SENSITIVITY']==20,'DATA SENSITIVITY']='SSN/Personal details'\n",
    "sheet_1.loc[sheet_1['DATA SENSITIVITY']=='20','DATA SENSITIVITY']='SSN/Personal details'\n",
    "sheet_1.loc[sheet_1['DATA SENSITIVITY']==300,'DATA SENSITIVITY']='Credit card information'\n",
    "sheet_1.loc[sheet_1['DATA SENSITIVITY']=='300','DATA SENSITIVITY']='Credit card information'\n",
    "sheet_1.loc[sheet_1['DATA SENSITIVITY']==4000,'DATA SENSITIVITY']='Email password/Health records'\n",
    "sheet_1.loc[sheet_1['DATA SENSITIVITY']==50000,'DATA SENSITIVITY']='Full bank account details'"
   ]
  },
  {
   "cell_type": "code",
   "execution_count": 40,
   "metadata": {
    "ExecuteTime": {
     "end_time": "2017-09-30T02:47:10.768568Z",
     "start_time": "2017-09-30T02:47:10.759947Z"
    }
   },
   "outputs": [
    {
     "data": {
      "text/plain": [
       "array(['Just email address/Online information', 'SSN/Personal details',\n",
       "       'Credit card information', 'Full bank account details',\n",
       "       'Email password/Health records', 3], dtype=object)"
      ]
     },
     "execution_count": 40,
     "metadata": {},
     "output_type": "execute_result"
    }
   ],
   "source": [
    "sheet_1['DATA SENSITIVITY'].unique()"
   ]
  },
  {
   "cell_type": "markdown",
   "metadata": {},
   "source": [
    "Correcting the value of DATA SENSITIVITY, where DATA SENSITIVITY is 3."
   ]
  },
  {
   "cell_type": "code",
   "execution_count": 44,
   "metadata": {
    "ExecuteTime": {
     "end_time": "2017-09-30T02:56:49.042994Z",
     "start_time": "2017-09-30T02:56:49.005256Z"
    }
   },
   "outputs": [
    {
     "data": {
      "text/html": [
       "<div>\n",
       "<style>\n",
       "    .dataframe thead tr:only-child th {\n",
       "        text-align: right;\n",
       "    }\n",
       "\n",
       "    .dataframe thead th {\n",
       "        text-align: left;\n",
       "    }\n",
       "\n",
       "    .dataframe tbody tr th {\n",
       "        vertical-align: top;\n",
       "    }\n",
       "</style>\n",
       "<table border=\"1\" class=\"dataframe\">\n",
       "  <thead>\n",
       "    <tr style=\"text-align: right;\">\n",
       "      <th></th>\n",
       "      <th>ENTITY</th>\n",
       "      <th>YEAR</th>\n",
       "      <th>RECORDS LOST</th>\n",
       "      <th>ORGANISATION</th>\n",
       "      <th>METHOD OF LEAK</th>\n",
       "      <th>DATA SENSITIVITY</th>\n",
       "    </tr>\n",
       "  </thead>\n",
       "  <tbody>\n",
       "    <tr>\n",
       "      <th>134</th>\n",
       "      <td>South Carolina State Dept. of Revenue</td>\n",
       "      <td>2012</td>\n",
       "      <td>3600000</td>\n",
       "      <td>government</td>\n",
       "      <td>hacked</td>\n",
       "      <td>3</td>\n",
       "    </tr>\n",
       "  </tbody>\n",
       "</table>\n",
       "</div>"
      ],
      "text/plain": [
       "                                    ENTITY  YEAR RECORDS LOST ORGANISATION  \\\n",
       "134  South Carolina State Dept. of Revenue  2012      3600000   government   \n",
       "\n",
       "    METHOD OF LEAK DATA SENSITIVITY  \n",
       "134         hacked                3  "
      ]
     },
     "execution_count": 44,
     "metadata": {},
     "output_type": "execute_result"
    }
   ],
   "source": [
    "sheet_1.loc[sheet_1['DATA SENSITIVITY'] == 3]"
   ]
  },
  {
   "cell_type": "code",
   "execution_count": 45,
   "metadata": {
    "ExecuteTime": {
     "end_time": "2017-09-30T02:58:29.660156Z",
     "start_time": "2017-09-30T02:58:29.638156Z"
    }
   },
   "outputs": [],
   "source": [
    "sheet_1.loc[sheet_1['DATA SENSITIVITY']==3,'DATA SENSITIVITY']='Credit card information'"
   ]
  },
  {
   "cell_type": "code",
   "execution_count": 47,
   "metadata": {
    "ExecuteTime": {
     "end_time": "2017-09-30T03:01:33.361434Z",
     "start_time": "2017-09-30T03:01:33.326970Z"
    }
   },
   "outputs": [],
   "source": [
    "sheet_1.to_csv('Data_Assignment2.csv')"
   ]
  },
  {
   "cell_type": "code",
   "execution_count": 52,
   "metadata": {
    "ExecuteTime": {
     "end_time": "2017-09-30T03:13:27.494936Z",
     "start_time": "2017-09-30T03:13:27.482684Z"
    }
   },
   "outputs": [],
   "source": [
    "import numpy as np"
   ]
  },
  {
   "cell_type": "markdown",
   "metadata": {},
   "source": [
    "Checking for NULLS in RECORDS LOST column."
   ]
  },
  {
   "cell_type": "code",
   "execution_count": 53,
   "metadata": {
    "ExecuteTime": {
     "end_time": "2017-09-30T03:13:33.248915Z",
     "start_time": "2017-09-30T03:13:33.218255Z"
    }
   },
   "outputs": [
    {
     "data": {
      "text/plain": [
       "array([146, 162])"
      ]
     },
     "execution_count": 53,
     "metadata": {},
     "output_type": "execute_result"
    }
   ],
   "source": [
    "np.where(sheet_1['RECORDS LOST'].isnull())[0]"
   ]
  },
  {
   "cell_type": "code",
   "execution_count": 55,
   "metadata": {
    "ExecuteTime": {
     "end_time": "2017-09-30T03:14:59.117588Z",
     "start_time": "2017-09-30T03:14:59.084321Z"
    }
   },
   "outputs": [
    {
     "data": {
      "text/plain": [
       "ENTITY                               OVH\n",
       "YEAR                                2013\n",
       "RECORDS LOST                         NaN\n",
       "ORGANISATION                         web\n",
       "METHOD OF LEAK                    hacked\n",
       "DATA SENSITIVITY    SSN/Personal details\n",
       "Name: 147, dtype: object"
      ]
     },
     "execution_count": 55,
     "metadata": {},
     "output_type": "execute_result"
    }
   ],
   "source": [
    "sheet_1.iloc[146]"
   ]
  },
  {
   "cell_type": "code",
   "execution_count": 56,
   "metadata": {
    "ExecuteTime": {
     "end_time": "2017-09-30T03:16:49.250638Z",
     "start_time": "2017-09-30T03:16:49.203641Z"
    }
   },
   "outputs": [],
   "source": [
    "sheet_1 = sheet_1.dropna()"
   ]
  },
  {
   "cell_type": "code",
   "execution_count": 59,
   "metadata": {
    "ExecuteTime": {
     "end_time": "2017-09-30T03:25:24.606892Z",
     "start_time": "2017-09-30T03:25:24.603545Z"
    }
   },
   "outputs": [],
   "source": [
    "# 1. Removed Nulls"
   ]
  },
  {
   "cell_type": "code",
   "execution_count": 60,
   "metadata": {
    "ExecuteTime": {
     "end_time": "2017-09-30T03:26:10.423758Z",
     "start_time": "2017-09-30T03:26:10.415586Z"
    }
   },
   "outputs": [],
   "source": [
    "# 2. Corrected Data Sensitivity where Data Sensitivity was 3. Assuming it to be 300."
   ]
  },
  {
   "cell_type": "markdown",
   "metadata": {},
   "source": [
    "Changing the value of YEAR from LATEST to 2017."
   ]
  },
  {
   "cell_type": "code",
   "execution_count": 61,
   "metadata": {
    "ExecuteTime": {
     "end_time": "2017-09-30T03:35:01.675919Z",
     "start_time": "2017-09-30T03:35:01.660246Z"
    }
   },
   "outputs": [],
   "source": [
    "sheet_1.loc[sheet_1.YEAR=='Latest','YEAR']= 2017"
   ]
  },
  {
   "cell_type": "code",
   "execution_count": 63,
   "metadata": {
    "ExecuteTime": {
     "end_time": "2017-09-30T03:35:36.496645Z",
     "start_time": "2017-09-30T03:35:36.480186Z"
    }
   },
   "outputs": [],
   "source": [
    "sheet_1.to_csv('Data_Assignment2.csv')"
   ]
  },
  {
   "cell_type": "markdown",
   "metadata": {},
   "source": [
    "I have created 2 intermediated Tableau charts and 1 Final Chart.\n",
    "\n",
    "Version 1: This version of visualization shows, number of Records Lost over the years.\n",
    "Advantages/disadvantages and how the next version could improve it:\n",
    "This graph helps in observing the change in number of Records Lost based on year. \n",
    "But this graph doesn’t provide information about the number of Incidents/breaches every year.\n",
    "\n",
    "Version 2: This version shows the number of Incidents changing over the years and the number of Record Lost changing over the years.\n",
    "\n",
    "Advantages/disadvantages and how the next version could improve it:\n",
    "This version gives better understanding than the previous version. We can see the Number of breached/Incident happening in a year plus we can also see the number of Records lost versus year.\n",
    "\n",
    "Final : 1.  The data source for this chart is “Information is Beautiful- Data Breaches (public).xlsx” \n",
    "2.  This chart supports the Argument that the data breaches have increased over the years. \n",
    "3.  This argument is supported by taking the Number of Record Lost over the years. \n",
    "4.  The data can be filtered on Organisation and Method Of Leak.\n",
    "5.  The filters can be used to see the trend in the Number of Record Lost over the span of 13 years."
   ]
  }
 ],
 "metadata": {
  "kernelspec": {
   "display_name": "Python 3",
   "language": "python",
   "name": "python3"
  },
  "language_info": {
   "codemirror_mode": {
    "name": "ipython",
    "version": 3
   },
   "file_extension": ".py",
   "mimetype": "text/x-python",
   "name": "python",
   "nbconvert_exporter": "python",
   "pygments_lexer": "ipython3",
   "version": "3.6.2"
  },
  "toc": {
   "nav_menu": {},
   "number_sections": true,
   "sideBar": true,
   "skip_h1_title": false,
   "toc_cell": false,
   "toc_position": {},
   "toc_section_display": "block",
   "toc_window_display": false
  },
  "varInspector": {
   "cols": {
    "lenName": 16,
    "lenType": 16,
    "lenVar": 40
   },
   "kernels_config": {
    "python": {
     "delete_cmd_postfix": "",
     "delete_cmd_prefix": "del ",
     "library": "var_list.py",
     "varRefreshCmd": "print(var_dic_list())"
    },
    "r": {
     "delete_cmd_postfix": ") ",
     "delete_cmd_prefix": "rm(",
     "library": "var_list.r",
     "varRefreshCmd": "cat(var_dic_list()) "
    }
   },
   "types_to_exclude": [
    "module",
    "function",
    "builtin_function_or_method",
    "instance",
    "_Feature"
   ],
   "window_display": false
  }
 },
 "nbformat": 4,
 "nbformat_minor": 2
}
